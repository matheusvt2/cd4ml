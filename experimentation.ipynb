{
 "cells": [
  {
   "cell_type": "code",
   "execution_count": 1,
   "metadata": {},
   "outputs": [],
   "source": [
    "import pandas as pd\n",
    "from sklearn.model_selection import train_test_split\n",
    "from sklearn.ensemble import RandomForestClassifier\n",
    "from sklearn.metrics import accuracy_score, confusion_matrix, classification_report\n",
    "import mlflow\n",
    "from mlflow.tracking import MlflowClient\n",
    "import pickle"
   ]
  },
  {
   "cell_type": "code",
   "execution_count": 2,
   "metadata": {},
   "outputs": [],
   "source": [
    "# mlflow configuration\n",
    "remote_server_uri = \"http://52.67.153.88:5000/\" # set to your server URI\n",
    "mlflow.set_tracking_uri(remote_server_uri)\n",
    "mlflow.set_experiment(\"cd4ml\")\n",
    "tags={'Project': 'aws-cd4ml',\n",
    "       'Env': 'experimentation'}\n",
    "mlflow.set_tags(tags)\n",
    "\n",
    "mlflow.sklearn.autolog() # enabling autolog"
   ]
  },
  {
   "cell_type": "code",
   "execution_count": 3,
   "metadata": {},
   "outputs": [
    {
     "name": "stdout",
     "output_type": "stream",
     "text": [
      "   sepal.length  sepal.width  petal.length  petal.width variety\n",
      "0           5.1          3.5           1.4          0.2  Setosa\n",
      "1           4.9          3.0           1.4          0.2  Setosa\n",
      "2           4.7          3.2           1.3          0.2  Setosa\n",
      "3           4.6          3.1           1.5          0.2  Setosa\n",
      "4           5.0          3.6           1.4          0.2  Setosa\n"
     ]
    },
    {
     "name": "stderr",
     "output_type": "stream",
     "text": [
      "2021/04/04 01:08:01 ERROR mlflow.utils.rest_utils: API request to http://52.67.153.88:5000/api/2.0/mlflow/runs/log-model failed with code 500 != 200, retrying up to 2 more times. API response body: <!DOCTYPE HTML PUBLIC \"-//W3C//DTD HTML 3.2 Final//EN\">\n",
      "<title>500 Internal Server Error</title>\n",
      "<h1>Internal Server Error</h1>\n",
      "<p>The server encountered an internal error and was unable to complete your request. Either the server is overloaded or there is an error in the application.</p>\n",
      "\n",
      "2021/04/04 01:08:04 ERROR mlflow.utils.rest_utils: API request to http://52.67.153.88:5000/api/2.0/mlflow/runs/log-model failed with code 500 != 200, retrying up to 1 more times. API response body: <!DOCTYPE HTML PUBLIC \"-//W3C//DTD HTML 3.2 Final//EN\">\n",
      "<title>500 Internal Server Error</title>\n",
      "<h1>Internal Server Error</h1>\n",
      "<p>The server encountered an internal error and was unable to complete your request. Either the server is overloaded or there is an error in the application.</p>\n",
      "\n",
      "2021/04/04 01:08:09 ERROR mlflow.utils.rest_utils: API request to http://52.67.153.88:5000/api/2.0/mlflow/runs/log-model failed with code 500 != 200, retrying up to 0 more times. API response body: <!DOCTYPE HTML PUBLIC \"-//W3C//DTD HTML 3.2 Final//EN\">\n",
      "<title>500 Internal Server Error</title>\n",
      "<h1>Internal Server Error</h1>\n",
      "<p>The server encountered an internal error and was unable to complete your request. Either the server is overloaded or there is an error in the application.</p>\n",
      "\n",
      "2021/04/04 01:08:12 WARNING mlflow.models.model: Logging model metadata to the tracking server has failed, possibly due older server version. The model artifacts have been logged successfully under s3://cd4ml-bucket-01/mlflow/2/da20867c84854f71954596e5a3f0968c/artifacts. In addition to exporting model artifacts, MLflow clients 1.7.0 and above attempt to record model metadata to the  tracking store. If logging to a mlflow server via REST, consider  upgrading the server version to MLflow 1.7.0 or above.\n"
     ]
    },
    {
     "name": "stdout",
     "output_type": "stream",
     "text": [
      "Model score 1.0\n"
     ]
    }
   ],
   "source": [
    "# data load\n",
    "inputFolder = './data/'\n",
    "df = pd.read_csv(inputFolder + 'iris.csv')\n",
    "print(df.head())\n",
    "\n",
    "X = df.loc[:, df.columns != 'variety']\n",
    "y = df['variety']\n",
    "\n",
    "# data split\n",
    "X_train, X_test, y_train, y_test = train_test_split(X, y,test_size=0.25)\n",
    "\n",
    "\n",
    "# modeling\n",
    "model = RandomForestClassifier()\n",
    "model.fit(X_train, y_train)\n",
    "# print score\n",
    "print(\"Model score\",model.score(X_train,y_train))"
   ]
  },
  {
   "cell_type": "code",
   "execution_count": 4,
   "metadata": {},
   "outputs": [
    {
     "name": "stdout",
     "output_type": "stream",
     "text": [
      "0.9736842105263158\n",
      "[[13  0  0]\n",
      " [ 0 14  0]\n",
      " [ 0  1 10]]\n",
      "              precision    recall  f1-score   support\n",
      "\n",
      "      Setosa       1.00      1.00      1.00        13\n",
      "  Versicolor       0.93      1.00      0.97        14\n",
      "   Virginica       1.00      0.91      0.95        11\n",
      "\n",
      "    accuracy                           0.97        38\n",
      "   macro avg       0.98      0.97      0.97        38\n",
      "weighted avg       0.98      0.97      0.97        38\n",
      "\n"
     ]
    }
   ],
   "source": [
    "# predict X_test data\n",
    "predictions = model.predict(X_test)\n",
    "\n",
    "# scoring\n",
    "print(accuracy_score(y_test, predictions))\n",
    "print(confusion_matrix(y_test, predictions))\n",
    "print(classification_report(y_test, predictions))\n",
    "\n",
    "# saving model (local)\n",
    "#pickle.dump(model, open('./output/randomforest_model.pkl', 'wb'))"
   ]
  },
  {
   "cell_type": "code",
   "execution_count": 5,
   "metadata": {},
   "outputs": [
    {
     "name": "stderr",
     "output_type": "stream",
     "text": [
      "Registered model 'RFClassifierModel' already exists. Creating a new version of this model...\n",
      "2021/04/04 01:08:12 INFO mlflow.tracking._model_registry.client: Waiting up to 300 seconds for model version to finish creation.                     Model name: RFClassifierModel, version 14\n"
     ]
    },
    {
     "name": "stdout",
     "output_type": "stream",
     "text": [
      "Name: RFClassifierModel\n",
      "Version: 14\n"
     ]
    },
    {
     "name": "stderr",
     "output_type": "stream",
     "text": [
      "Created version '14' of model 'RFClassifierModel'.\n"
     ]
    }
   ],
   "source": [
    "# mlflow magic!\n",
    "# traking parameters\n",
    "\n",
    "mv = mlflow.register_model(remote_server_uri, \"RFClassifierModel\")\n",
    "print(\"Name: {}\".format(mv.name))\n",
    "print(\"Version: {}\".format(mv.version))"
   ]
  },
  {
   "cell_type": "code",
   "execution_count": 6,
   "metadata": {},
   "outputs": [
    {
     "name": "stdout",
     "output_type": "stream",
     "text": [
      "{   'creation_timestamp': 1617499602822,\n",
      "    'description': '',\n",
      "    'last_updated_timestamp': 1617509292927,\n",
      "    'latest_versions': [   <ModelVersion: creation_timestamp=1617509292927, current_stage='None', description='', last_updated_timestamp=1617509292927, name='RFClassifierModel', run_id='', run_link='', source='http://52.67.153.88:5000/', status='READY', status_message='', tags={}, user_id='', version='14'>,\n",
      "                           <ModelVersion: creation_timestamp=1617503243811, current_stage='Archived', description='', last_updated_timestamp=1617507539574, name='RFClassifierModel', run_id='', run_link='', source='http://52.67.153.88:5000/', status='READY', status_message='', tags={}, user_id='', version='7'>,\n",
      "                           <ModelVersion: creation_timestamp=1617507365765, current_stage='Production', description='', last_updated_timestamp=1617507539574, name='RFClassifierModel', run_id='ca27eeefbfeb41b2b6301cf7bf6fccdc', run_link='', source='s3://cd4ml-bucket-01/mlflow/2/ca27eeefbfeb41b2b6301cf7bf6fccdc/artifacts/model', status='READY', status_message='', tags={}, user_id='', version='13'>],\n",
      "    'name': 'RFClassifierModel',\n",
      "    'tags': {}}\n"
     ]
    }
   ],
   "source": [
    "from pprint import pprint\n",
    "client = MlflowClient()\n",
    "for rm in client.list_registered_models():\n",
    "    pprint(dict(rm),indent=4)"
   ]
  },
  {
   "cell_type": "code",
   "execution_count": 7,
   "metadata": {},
   "outputs": [
    {
     "name": "stdout",
     "output_type": "stream",
     "text": [
      "description: \n",
      "name: RFClassifierModel\n",
      "run_id: ca27eeefbfeb41b2b6301cf7bf6fccdc\n",
      "version: 13\n"
     ]
    }
   ],
   "source": [
    "# get model in production information\n",
    "client = MlflowClient()\n",
    "prod_model = client.get_latest_versions(name = \"RFClassifierModel\",\n",
    "                           stages = [\"Production\"])\n",
    "\n",
    "print(\"description: \"+ dict(prod_model[0])[\"description\"],\n",
    "     \"name: \" + dict(prod_model[0])[\"name\"],\n",
    "     \"run_id: \" + dict(prod_model[0])[\"run_id\"],\n",
    "     \"version: \" + dict(prod_model[0])[\"version\"],sep=\"\\n\")"
   ]
  },
  {
   "cell_type": "code",
   "execution_count": 8,
   "metadata": {},
   "outputs": [],
   "source": [
    "loaded_model = mlflow.sklearn.load_model(dict(prod_model[0])[\"source\"])"
   ]
  },
  {
   "cell_type": "code",
   "execution_count": 9,
   "metadata": {},
   "outputs": [],
   "source": [
    "mlflow.end_run()"
   ]
  },
  {
   "cell_type": "code",
   "execution_count": null,
   "metadata": {},
   "outputs": [],
   "source": []
  }
 ],
 "metadata": {
  "kernelspec": {
   "display_name": "Python 3",
   "language": "python",
   "name": "python3"
  },
  "language_info": {
   "codemirror_mode": {
    "name": "ipython",
    "version": 3
   },
   "file_extension": ".py",
   "mimetype": "text/x-python",
   "name": "python",
   "nbconvert_exporter": "python",
   "pygments_lexer": "ipython3",
   "version": "3.8.3"
  }
 },
 "nbformat": 4,
 "nbformat_minor": 4
}
